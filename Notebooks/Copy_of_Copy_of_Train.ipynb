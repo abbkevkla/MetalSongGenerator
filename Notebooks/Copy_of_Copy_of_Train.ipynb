{
 "cells": [
  {
   "cell_type": "code",
   "execution_count": 1,
   "metadata": {
    "colab": {},
    "colab_type": "code",
    "id": "WBAIouFTM7fc"
   },
   "outputs": [],
   "source": [
    "%reload_ext autoreload\n",
    "%autoreload 2\n",
    "%matplotlib inline"
   ]
  },
  {
   "cell_type": "code",
   "execution_count": 2,
   "metadata": {
    "colab": {},
    "colab_type": "code",
    "id": "w8M4EZNqM7fm"
   },
   "outputs": [],
   "source": [
    "import os\n",
    "os.chdir('../../')"
   ]
  },
  {
   "cell_type": "code",
   "execution_count": 6,
   "metadata": {
    "colab": {
     "base_uri": "https://localhost:8080/",
     "height": 68
    },
    "colab_type": "code",
    "id": "odHNMGLnOxF1",
    "outputId": "5106a29b-2c97-4b12-ef89-754180c7f34d",
    "scrolled": true
   },
   "outputs": [
    {
     "name": "stdout",
     "output_type": "stream",
     "text": [
      "C:\\Users\\S8kevkla\\Downloads\\TrainMusic\n",
      "C:\\Users\\S8kevkla\\Downloads\\TrainMusic\\MetalSongGenerator\\musicautobot-master\n"
     ]
    },
    {
     "name": "stderr",
     "output_type": "stream",
     "text": [
      "fatal: destination path 'MetalSongGenerator' already exists and is not an empty directory.\n"
     ]
    }
   ],
   "source": [
    "%cd C:\\Users\\S8kevkla\\Downloads\\TrainMusic\n",
    "!git clone https://github.com/abbkevkla/MetalSongGenerator\n",
    "\n",
    "%cd C:\\Users\\S8kevkla\\Downloads\\TrainMusic\\MetalSongGenerator\\musicautobot-master"
   ]
  },
  {
   "cell_type": "code",
   "execution_count": 3,
   "metadata": {},
   "outputs": [
    {
     "name": "stdout",
     "output_type": "stream",
     "text": [
      "Requirement already satisfied: music21 in c:\\users\\s8kevkla\\appdata\\local\\programs\\python\\python37\\lib\\site-packages (5.7.2)\n",
      "lmao\n"
     ]
    },
    {
     "name": "stderr",
     "output_type": "stream",
     "text": [
      "You are using pip version 19.0.3, however version 20.0.2 is available.\n",
      "You should consider upgrading via the 'python -m pip install --upgrade pip' command.\n"
     ]
    }
   ],
   "source": [
    "!pip install music21\n",
    "print(\"lmao\")"
   ]
  },
  {
   "cell_type": "code",
   "execution_count": 4,
   "metadata": {},
   "outputs": [
    {
     "name": "stdout",
     "output_type": "stream",
     "text": [
      "Requirement already satisfied: fastai in c:\\users\\s8kevkla\\appdata\\local\\programs\\python\\python37\\lib\\site-packages (1.0.60)\n",
      "Requirement already satisfied: scipy in c:\\users\\s8kevkla\\appdata\\local\\programs\\python\\python37\\lib\\site-packages (from fastai) (1.4.1)\n",
      "Requirement already satisfied: nvidia-ml-py3 in c:\\users\\s8kevkla\\appdata\\local\\programs\\python\\python37\\lib\\site-packages (from fastai) (7.352.0)\n",
      "Requirement already satisfied: Pillow in c:\\users\\s8kevkla\\appdata\\local\\programs\\python\\python37\\lib\\site-packages (from fastai) (6.2.1)\n",
      "Requirement already satisfied: torchvision in c:\\users\\s8kevkla\\appdata\\local\\programs\\python\\python37\\lib\\site-packages (from fastai) (0.5.0+cpu)\n",
      "Requirement already satisfied: requests in c:\\users\\s8kevkla\\appdata\\local\\programs\\python\\python37\\lib\\site-packages (from fastai) (2.22.0)\n",
      "Requirement already satisfied: beautifulsoup4 in c:\\users\\s8kevkla\\appdata\\local\\programs\\python\\python37\\lib\\site-packages (from fastai) (4.8.2)\n",
      "Requirement already satisfied: numexpr in c:\\users\\s8kevkla\\appdata\\local\\programs\\python\\python37\\lib\\site-packages (from fastai) (2.7.1)\n",
      "Requirement already satisfied: pandas in c:\\users\\s8kevkla\\appdata\\local\\programs\\python\\python37\\lib\\site-packages (from fastai) (0.25.1)\n",
      "Requirement already satisfied: pyyaml in c:\\users\\s8kevkla\\appdata\\local\\programs\\python\\python37\\lib\\site-packages (from fastai) (5.3)\n",
      "Requirement already satisfied: torch>=1.0.0 in c:\\users\\s8kevkla\\appdata\\local\\programs\\python\\python37\\lib\\site-packages (from fastai) (1.4.0+cpu)\n",
      "Requirement already satisfied: numpy>=1.15 in c:\\users\\s8kevkla\\appdata\\local\\programs\\python\\python37\\lib\\site-packages (from fastai) (1.17.0)\n",
      "Requirement already satisfied: matplotlib in c:\\users\\s8kevkla\\appdata\\local\\programs\\python\\python37\\lib\\site-packages (from fastai) (3.1.1)\n",
      "Requirement already satisfied: fastprogress>=0.2.1 in c:\\users\\s8kevkla\\appdata\\local\\programs\\python\\python37\\lib\\site-packages (from fastai) (0.2.2)\n",
      "Requirement already satisfied: packaging in c:\\users\\s8kevkla\\appdata\\local\\programs\\python\\python37\\lib\\site-packages (from fastai) (20.1)\n",
      "Requirement already satisfied: spacy>=2.0.18 in c:\\users\\s8kevkla\\appdata\\local\\programs\\python\\python37\\lib\\site-packages (from fastai) (2.2.3)\n",
      "Requirement already satisfied: bottleneck in c:\\users\\s8kevkla\\appdata\\local\\programs\\python\\python37\\lib\\site-packages (from fastai) (1.3.1)\n",
      "Requirement already satisfied: six in c:\\users\\s8kevkla\\appdata\\local\\programs\\python\\python37\\lib\\site-packages (from torchvision->fastai) (1.12.0)\n",
      "Requirement already satisfied: urllib3!=1.25.0,!=1.25.1,<1.26,>=1.21.1 in c:\\users\\s8kevkla\\appdata\\local\\programs\\python\\python37\\lib\\site-packages (from requests->fastai) (1.25.6)\n",
      "Requirement already satisfied: chardet<3.1.0,>=3.0.2 in c:\\users\\s8kevkla\\appdata\\local\\programs\\python\\python37\\lib\\site-packages (from requests->fastai) (3.0.4)\n",
      "Requirement already satisfied: certifi>=2017.4.17 in c:\\users\\s8kevkla\\appdata\\local\\programs\\python\\python37\\lib\\site-packages (from requests->fastai) (2019.9.11)\n",
      "Requirement already satisfied: idna<2.9,>=2.5 in c:\\users\\s8kevkla\\appdata\\local\\programs\\python\\python37\\lib\\site-packages (from requests->fastai) (2.8)\n",
      "Requirement already satisfied: soupsieve>=1.2 in c:\\users\\s8kevkla\\appdata\\local\\programs\\python\\python37\\lib\\site-packages (from beautifulsoup4->fastai) (1.9.5)\n",
      "Requirement already satisfied: pytz>=2017.2 in c:\\users\\s8kevkla\\appdata\\local\\programs\\python\\python37\\lib\\site-packages (from pandas->fastai) (2019.2)\n",
      "Requirement already satisfied: python-dateutil>=2.6.1 in c:\\users\\s8kevkla\\appdata\\local\\programs\\python\\python37\\lib\\site-packages (from pandas->fastai) (2.8.0)\n",
      "Requirement already satisfied: cycler>=0.10 in c:\\users\\s8kevkla\\appdata\\local\\programs\\python\\python37\\lib\\site-packages (from matplotlib->fastai) (0.10.0)\n",
      "Requirement already satisfied: pyparsing!=2.0.4,!=2.1.2,!=2.1.6,>=2.0.1 in c:\\users\\s8kevkla\\appdata\\local\\programs\\python\\python37\\lib\\site-packages (from matplotlib->fastai) (2.4.2)\n",
      "Requirement already satisfied: kiwisolver>=1.0.1 in c:\\users\\s8kevkla\\appdata\\local\\programs\\python\\python37\\lib\\site-packages (from matplotlib->fastai) (1.1.0)\n",
      "Requirement already satisfied: catalogue<1.1.0,>=0.0.7 in c:\\users\\s8kevkla\\appdata\\local\\programs\\python\\python37\\lib\\site-packages (from spacy>=2.0.18->fastai) (1.0.0)\n",
      "Requirement already satisfied: wasabi<1.1.0,>=0.4.0 in c:\\users\\s8kevkla\\appdata\\local\\programs\\python\\python37\\lib\\site-packages (from spacy>=2.0.18->fastai) (0.6.0)\n",
      "Requirement already satisfied: setuptools in c:\\users\\s8kevkla\\appdata\\local\\programs\\python\\python37\\lib\\site-packages (from spacy>=2.0.18->fastai) (40.8.0)\n",
      "Requirement already satisfied: cymem<2.1.0,>=2.0.2 in c:\\users\\s8kevkla\\appdata\\local\\programs\\python\\python37\\lib\\site-packages (from spacy>=2.0.18->fastai) (2.0.3)\n",
      "Requirement already satisfied: srsly<1.1.0,>=0.1.0 in c:\\users\\s8kevkla\\appdata\\local\\programs\\python\\python37\\lib\\site-packages (from spacy>=2.0.18->fastai) (1.0.1)\n",
      "Requirement already satisfied: thinc<7.4.0,>=7.3.0 in c:\\users\\s8kevkla\\appdata\\local\\programs\\python\\python37\\lib\\site-packages (from spacy>=2.0.18->fastai) (7.3.1)\n",
      "Requirement already satisfied: preshed<3.1.0,>=3.0.2 in c:\\users\\s8kevkla\\appdata\\local\\programs\\python\\python37\\lib\\site-packages (from spacy>=2.0.18->fastai) (3.0.2)\n",
      "Requirement already satisfied: plac<1.2.0,>=0.9.6 in c:\\users\\s8kevkla\\appdata\\local\\programs\\python\\python37\\lib\\site-packages (from spacy>=2.0.18->fastai) (1.1.3)\n",
      "Requirement already satisfied: blis<0.5.0,>=0.4.0 in c:\\users\\s8kevkla\\appdata\\local\\programs\\python\\python37\\lib\\site-packages (from spacy>=2.0.18->fastai) (0.4.1)\n",
      "Requirement already satisfied: murmurhash<1.1.0,>=0.28.0 in c:\\users\\s8kevkla\\appdata\\local\\programs\\python\\python37\\lib\\site-packages (from spacy>=2.0.18->fastai) (1.0.2)\n",
      "Requirement already satisfied: importlib-metadata>=0.20; python_version < \"3.8\" in c:\\users\\s8kevkla\\appdata\\local\\programs\\python\\python37\\lib\\site-packages (from catalogue<1.1.0,>=0.0.7->spacy>=2.0.18->fastai) (1.5.0)\n",
      "Requirement already satisfied: tqdm<5.0.0,>=4.10.0 in c:\\users\\s8kevkla\\appdata\\local\\programs\\python\\python37\\lib\\site-packages (from thinc<7.4.0,>=7.3.0->spacy>=2.0.18->fastai) (4.42.1)\n",
      "Requirement already satisfied: zipp>=0.5 in c:\\users\\s8kevkla\\appdata\\local\\programs\\python\\python37\\lib\\site-packages (from importlib-metadata>=0.20; python_version < \"3.8\"->catalogue<1.1.0,>=0.0.7->spacy>=2.0.18->fastai) (2.2.0)\n"
     ]
    },
    {
     "name": "stderr",
     "output_type": "stream",
     "text": [
      "You are using pip version 19.0.3, however version 20.0.2 is available.\n",
      "You should consider upgrading via the 'python -m pip install --upgrade pip' command.\n"
     ]
    }
   ],
   "source": [
    "#!pip install pebble\n",
    "#!pip install jupyter notebook jupyter_contrib_nbextensions\n",
    "#!pip install torch==1.4.0+cpu torchvision==0.5.0+cpu -f https://download.pytorch.org/whl/torch_stable.html\n",
    "!pip install fastai"
   ]
  },
  {
   "cell_type": "code",
   "execution_count": 7,
   "metadata": {
    "colab": {},
    "colab_type": "code",
    "id": "QQ4lrWfgYX0l",
    "scrolled": false
   },
   "outputs": [
    {
     "ename": "UserSettingsException",
     "evalue": "An environment configuration file already exists; simply set values to modify.",
     "output_type": "error",
     "traceback": [
      "\u001b[1;31m---------------------------------------------------------------------------\u001b[0m",
      "\u001b[1;31mUserSettingsException\u001b[0m                     Traceback (most recent call last)",
      "\u001b[1;32m<ipython-input-7-c78d34c5c9fc>\u001b[0m in \u001b[0;36m<module>\u001b[1;34m\u001b[0m\n\u001b[0;32m      1\u001b[0m \u001b[1;32mfrom\u001b[0m \u001b[0mmusic21\u001b[0m \u001b[1;32mimport\u001b[0m \u001b[1;33m*\u001b[0m\u001b[1;33m\u001b[0m\u001b[1;33m\u001b[0m\u001b[0m\n\u001b[0;32m      2\u001b[0m \u001b[0mus\u001b[0m \u001b[1;33m=\u001b[0m \u001b[0menvironment\u001b[0m\u001b[1;33m.\u001b[0m\u001b[0mUserSettings\u001b[0m\u001b[1;33m(\u001b[0m\u001b[1;33m)\u001b[0m\u001b[1;33m\u001b[0m\u001b[1;33m\u001b[0m\u001b[0m\n\u001b[1;32m----> 3\u001b[1;33m \u001b[0mus\u001b[0m\u001b[1;33m.\u001b[0m\u001b[0mcreate\u001b[0m\u001b[1;33m(\u001b[0m\u001b[1;33m)\u001b[0m\u001b[1;33m\u001b[0m\u001b[1;33m\u001b[0m\u001b[0m\n\u001b[0m",
      "\u001b[1;32m~\\AppData\\Local\\Programs\\Python\\Python37\\lib\\site-packages\\music21\\environment.py\u001b[0m in \u001b[0;36mcreate\u001b[1;34m(self)\u001b[0m\n\u001b[0;32m   1336\u001b[0m         \u001b[1;32melse\u001b[0m\u001b[1;33m:\u001b[0m\u001b[1;33m\u001b[0m\u001b[1;33m\u001b[0m\u001b[0m\n\u001b[0;32m   1337\u001b[0m             raise UserSettingsException(\n\u001b[1;32m-> 1338\u001b[1;33m                 \u001b[1;34m'An environment configuration file already exists; '\u001b[0m\u001b[1;33m\u001b[0m\u001b[1;33m\u001b[0m\u001b[0m\n\u001b[0m\u001b[0;32m   1339\u001b[0m                 'simply set values to modify.')\n\u001b[0;32m   1340\u001b[0m \u001b[1;33m\u001b[0m\u001b[0m\n",
      "\u001b[1;31mUserSettingsException\u001b[0m: An environment configuration file already exists; simply set values to modify."
     ]
    }
   ],
   "source": [
    "from music21 import *\n",
    "us = environment.UserSettings()\n",
    "us.create()"
   ]
  },
  {
   "cell_type": "code",
   "execution_count": null,
   "metadata": {
    "colab": {
     "base_uri": "https://localhost:8080/",
     "height": 707
    },
    "colab_type": "code",
    "id": "jMyQO6cJNjof",
    "outputId": "b51f0383-01e9-4fc1-ef57-c9fa7a59b28a"
   },
   "outputs": [],
   "source": [
    "for key in sorted(us.keys()):\n",
    "    print(key)\n",
    "\n",
    "print(us['musescoreDirectPNGPath'])\n",
    "print(us['musicxmlPath'])\n",
    "\n",
    "#us['musescoreDirectPNGPath'] = 'C:/Program Files/MuseScore 3/bin/MuseScore3.exe'\n",
    "us['musicxmlPath'] = 'C:/Program Files/MuseScore 3/bin/MuseScore3.exe'"
   ]
  },
  {
   "cell_type": "code",
   "execution_count": 8,
   "metadata": {
    "colab": {},
    "colab_type": "code",
    "id": "2tGEHhdPM7fu"
   },
   "outputs": [],
   "source": [
    "from musicautobot.numpy_encode import *\n",
    "from musicautobot.config import *\n",
    "from musicautobot.music_transformer import *"
   ]
  },
  {
   "cell_type": "markdown",
   "metadata": {
    "colab_type": "text",
    "id": "kM-5JLGyM7fz"
   },
   "source": [
    "## MusicTransformer Training\n",
    "\n",
    "MusicTransformer takes the basic idea of [Language Models](https://en.wikipedia.org/wiki/Language_model) and applies it to Music.  \n",
    "\n",
    "Given a sequence of notes, predict the next most likely set of notes.\n",
    "\n",
    "This model is based off of [transformer-XL](https://arxiv.org/abs/1901.02860) and uses fast.ai's [implementation](https://github.com/fastai/fastai/blob/master/fastai/text/models/transformer.py) of it."
   ]
  },
  {
   "cell_type": "code",
   "execution_count": 5,
   "metadata": {
    "colab": {},
    "colab_type": "code",
    "id": "JwAW7tq4M7f0"
   },
   "outputs": [],
   "source": [
    "# Location of your midi filesfiles\n",
    "#midi_path = Path('data/midi/examples')\n",
    "midi_path = Path('data/midi/Mini_metal')\n",
    "midi_path.mkdir(parents=True, exist_ok=True)\n",
    "\n",
    "# Location to save dataset\n",
    "data_path = Path('data/numpy')\n",
    "data_path.mkdir(parents=True, exist_ok=True)\n",
    "\n",
    "data_save_name = 'musicitem_data_save.pkl'"
   ]
  },
  {
   "cell_type": "markdown",
   "metadata": {
    "colab_type": "text",
    "id": "fFdHDDX_M7f4"
   },
   "source": [
    "## 1. Gather midi dataset"
   ]
  },
  {
   "cell_type": "markdown",
   "metadata": {
    "colab_type": "text",
    "id": "MbINBK4pM7f6"
   },
   "source": [
    "Make sure all your midi data is in `musicautobot/data/midi` directory"
   ]
  },
  {
   "cell_type": "markdown",
   "metadata": {
    "colab_type": "text",
    "id": "yJGDAgcUM7f8"
   },
   "source": [
    "Here's a pretty good dataset with lots of midi data:  \n",
    "https://www.reddit.com/r/datasets/comments/3akhxy/the_largest_midi_collection_on_the_internet/\n",
    "\n",
    "Download the folder and unzip it to `data/midi`"
   ]
  },
  {
   "cell_type": "markdown",
   "metadata": {
    "colab_type": "text",
    "id": "9GFgLYV9M7f-"
   },
   "source": [
    "## 2. Create dataset from MIDI files"
   ]
  },
  {
   "cell_type": "code",
   "execution_count": 6,
   "metadata": {
    "colab": {
     "base_uri": "https://localhost:8080/",
     "height": 34
    },
    "colab_type": "code",
    "id": "DlN8qikQM7gA",
    "outputId": "7f96b010-2a26-49c3-96bc-a6178af0bf20"
   },
   "outputs": [
    {
     "data": {
      "text/plain": [
       "1"
      ]
     },
     "execution_count": 6,
     "metadata": {},
     "output_type": "execute_result"
    }
   ],
   "source": [
    "midi_files = get_files(midi_path, '.mid', recurse=True); len(midi_files)"
   ]
  },
  {
   "cell_type": "code",
   "execution_count": 7,
   "metadata": {
    "colab": {},
    "colab_type": "code",
    "id": "T8zrJCt1M7gG"
   },
   "outputs": [
    {
     "name": "stderr",
     "output_type": "stream",
     "text": [
      "C:\\Users\\S8kevkla\\AppData\\Local\\Programs\\Python\\Python37\\lib\\site-packages\\fastai\\data_block.py:457: UserWarning: Your validation set is empty. If this is by design, use `split_none()`\n",
      "                 or pass `ignore_empty=True` when labelling to remove this warning.\n",
      "  or pass `ignore_empty=True` when labelling to remove this warning.\"\"\")\n"
     ]
    }
   ],
   "source": [
    "processors = [Midi2ItemProcessor()]\n",
    "data = MusicDataBunch.from_files(midi_files, data_path, processors=processors, bs=2, bptt=12)\n",
    "data.save(data_save_name)"
   ]
  },
  {
   "cell_type": "code",
   "execution_count": 8,
   "metadata": {
    "colab": {
     "base_uri": "https://localhost:8080/",
     "height": 850
    },
    "colab_type": "code",
    "id": "FYDHyIfvM7gL",
    "outputId": "f94d2ab1-f8ab-4cf2-ed22-7bdebbf64ee6"
   },
   "outputs": [
    {
     "data": {
      "text/plain": [
       "(tensor([[[   0,    0],\n",
       "          [   1,    0],\n",
       "          [   8,    0],\n",
       "          [ 153,    0],\n",
       "          [  43,   16],\n",
       "          [ 138,   16],\n",
       "          [  43,   16],\n",
       "          [ 138,   16],\n",
       "          [   8,   16],\n",
       "          [ 138,   16],\n",
       "          [  43,   17],\n",
       "          [ 138,   17]],\n",
       " \n",
       "         [[ 139, 1742],\n",
       "          [  58, 1744],\n",
       "          [ 141, 1744],\n",
       "          [  52, 1744],\n",
       "          [ 138, 1744],\n",
       "          [  50, 1744],\n",
       "          [ 141, 1744],\n",
       "          [  46, 1744],\n",
       "          [ 141, 1744],\n",
       "          [  43, 1744],\n",
       "          [ 141, 1744],\n",
       "          [  39, 1744]]]), tensor([[[   1,    0],\n",
       "          [   8,    0],\n",
       "          [ 153,    0],\n",
       "          [  43,   16],\n",
       "          [ 138,   16],\n",
       "          [  43,   16],\n",
       "          [ 138,   16],\n",
       "          [   8,   16],\n",
       "          [ 138,   16],\n",
       "          [  43,   17],\n",
       "          [ 138,   17],\n",
       "          [  43,   17]],\n",
       " \n",
       "         [[  58, 1744],\n",
       "          [ 141, 1744],\n",
       "          [  52, 1744],\n",
       "          [ 138, 1744],\n",
       "          [  50, 1744],\n",
       "          [ 141, 1744],\n",
       "          [  46, 1744],\n",
       "          [ 141, 1744],\n",
       "          [  43, 1744],\n",
       "          [ 141, 1744],\n",
       "          [  39, 1744],\n",
       "          [ 138, 1744]]]))"
      ]
     },
     "execution_count": 8,
     "metadata": {},
     "output_type": "execute_result"
    }
   ],
   "source": [
    "# Show Data\n",
    "data.train_dl.on_epoch_begin()\n",
    "x, y = data.one_batch();\n",
    "x, y"
   ]
  },
  {
   "cell_type": "markdown",
   "metadata": {
    "colab_type": "text",
    "id": "WBx_pZW0M7gP"
   },
   "source": [
    "## 3. Load Model"
   ]
  },
  {
   "cell_type": "code",
   "execution_count": 9,
   "metadata": {
    "colab": {},
    "colab_type": "code",
    "id": "X9dgKdouM7gR"
   },
   "outputs": [],
   "source": [
    "batch_size = 1\n",
    "encode_position = True\n",
    "dl_tfms = [batch_position_tfm] if encode_position else []\n",
    "data = load_data(data_path, data_save_name, bs=batch_size, encode_position=encode_position, dl_tfms=dl_tfms)"
   ]
  },
  {
   "cell_type": "code",
   "execution_count": 10,
   "metadata": {
    "colab": {},
    "colab_type": "code",
    "id": "OGk3LFe-M7gV"
   },
   "outputs": [],
   "source": [
    "config = default_config()\n",
    "config['encode_position'] = encode_position\n",
    "learn = music_model_learner(data, config=config.copy())"
   ]
  },
  {
   "cell_type": "markdown",
   "metadata": {
    "colab_type": "text",
    "id": "ZjHa74wyM7ga"
   },
   "source": [
    "## 4. Train"
   ]
  },
  {
   "cell_type": "code",
   "execution_count": 11,
   "metadata": {
    "colab": {
     "base_uri": "https://localhost:8080/",
     "height": 173
    },
    "colab_type": "code",
    "id": "ccESOoPKM7gb",
    "outputId": "88aacf27-85e6-49c8-be58-2a259a3d6149",
    "scrolled": false
   },
   "outputs": [
    {
     "data": {
      "text/html": [
       "<table border=\"1\" class=\"dataframe\">\n",
       "  <thead>\n",
       "    <tr style=\"text-align: left;\">\n",
       "      <th>epoch</th>\n",
       "      <th>train_loss</th>\n",
       "      <th>valid_loss</th>\n",
       "      <th>accuracy</th>\n",
       "      <th>time</th>\n",
       "    </tr>\n",
       "  </thead>\n",
       "  <tbody>\n",
       "    <tr>\n",
       "      <td>0</td>\n",
       "      <td>2.580525</td>\n",
       "      <td>#na#</td>\n",
       "      <td>12:56</td>\n",
       "    </tr>\n",
       "    <tr>\n",
       "      <td>1</td>\n",
       "      <td>2.652786</td>\n",
       "      <td>#na#</td>\n",
       "      <td>12:39</td>\n",
       "    </tr>\n",
       "  </tbody>\n",
       "</table>"
      ],
      "text/plain": [
       "<IPython.core.display.HTML object>"
      ]
     },
     "metadata": {},
     "output_type": "display_data"
    }
   ],
   "source": [
    "learn.fit_one_cycle(2)"
   ]
  },
  {
   "cell_type": "code",
   "execution_count": 12,
   "metadata": {
    "colab": {
     "base_uri": "https://localhost:8080/",
     "height": 34
    },
    "colab_type": "code",
    "id": "3IJfo-WOM7ge",
    "outputId": "089cea58-f446-471f-e26e-73c212a2e01c"
   },
   "outputs": [
    {
     "data": {
      "text/plain": [
       "WindowsPath('data/numpy/models/metalexample.pth')"
      ]
     },
     "execution_count": 12,
     "metadata": {},
     "output_type": "execute_result"
    }
   ],
   "source": [
    "learn.save('metalexample')"
   ]
  },
  {
   "cell_type": "markdown",
   "metadata": {
    "colab_type": "text",
    "id": "E1OLiHJVM7gi"
   },
   "source": [
    "## 5. Predict"
   ]
  },
  {
   "cell_type": "markdown",
   "metadata": {
    "colab_type": "text",
    "id": "4760rLBkM7gk"
   },
   "source": [
    "---\n",
    "See [Generate.ipynb](Generate.ipynb) to use a pretrained model and generate better predictions\n",
    "\n",
    "---"
   ]
  },
  {
   "cell_type": "code",
   "execution_count": 19,
   "metadata": {
    "colab": {},
    "colab_type": "code",
    "id": "mxlBuuuqM7gl"
   },
   "outputs": [],
   "source": [
    "midi_file = Path('data/midi/examples/All I Want For Christmas Is You - Mariah Carey - Pre-Chorus-And-Chorus.mid'); midi_file\n",
    "#midi_file = Path('data/midi/Metal_midi/Pantera-Walk.mid'); midi_file\n",
    "item = MusicItem.from_file(midi_file, data.vocab);"
   ]
  },
  {
   "cell_type": "code",
   "execution_count": 20,
   "metadata": {
    "colab": {
     "base_uri": "https://localhost:8080/",
     "height": 306
    },
    "colab_type": "code",
    "id": "UKGMF_rLM7gp",
    "outputId": "857be6d1-f9fa-4c5d-b435-301c881540a0"
   },
   "outputs": [],
   "source": [
    "item.show('musicxml')"
   ]
  },
  {
   "cell_type": "markdown",
   "metadata": {
    "colab_type": "text",
    "id": "M6-GZrUIM7gu"
   },
   "source": [
    "Here's what the seed sounds like:"
   ]
  },
  {
   "cell_type": "markdown",
   "metadata": {
    "colab_type": "text",
    "id": "Bibh7YYvM7gv"
   },
   "source": [
    "### Start Predictions:"
   ]
  },
  {
   "cell_type": "code",
   "execution_count": 29,
   "metadata": {
    "colab": {
     "base_uri": "https://localhost:8080/",
     "height": 37
    },
    "colab_type": "code",
    "id": "1a5gdAV4M7gx",
    "outputId": "15a98493-7839-4390-8969-5df53980afbd",
    "scrolled": true
   },
   "outputs": [
    {
     "data": {
      "text/html": [
       "\n",
       "    <div>\n",
       "        <style>\n",
       "            /* Turns off some styling */\n",
       "            progress {\n",
       "                /* gets rid of default border in Firefox and Opera. */\n",
       "                border: none;\n",
       "                /* Needs to be in here for Safari polyfill so background images work as expected. */\n",
       "                background-size: auto;\n",
       "            }\n",
       "            .progress-bar-interrupted, .progress-bar-interrupted::-webkit-progress-bar {\n",
       "                background: #F44336;\n",
       "            }\n",
       "        </style>\n",
       "      <progress value='400' class='' max='400', style='width:300px; height:20px; vertical-align: middle;'></progress>\n",
       "      100.00% [400/400 01:39<00:00]\n",
       "    </div>\n",
       "    "
      ],
      "text/plain": [
       "<IPython.core.display.HTML object>"
      ]
     },
     "metadata": {},
     "output_type": "display_data"
    }
   ],
   "source": [
    "pred, full = learn.predict(item, n_words=400, temperatures=(1.5,0.8), min_bars=24, top_k=30, top_p=0.7)"
   ]
  },
  {
   "cell_type": "markdown",
   "metadata": {
    "colab_type": "text",
    "id": "pcUuosoVM7g1"
   },
   "source": [
    "Prediction"
   ]
  },
  {
   "cell_type": "code",
   "execution_count": 30,
   "metadata": {
    "colab": {
     "base_uri": "https://localhost:8080/",
     "height": 323
    },
    "colab_type": "code",
    "id": "88gvATt8M7g2",
    "outputId": "9851f056-7a7e-4e7d-cb3e-ef86aa1bd03f"
   },
   "outputs": [
    {
     "name": "stdout",
     "output_type": "stream",
     "text": [
      "Non midi note detected. Only returning valid portion. Index, seed 21 (200, 2)\n"
     ]
    }
   ],
   "source": [
    "# Prediction\n",
    "pred.show('musicxml')"
   ]
  },
  {
   "cell_type": "code",
   "execution_count": null,
   "metadata": {
    "colab": {
     "base_uri": "https://localhost:8080/",
     "height": 17
    },
    "colab_type": "code",
    "id": "1T9yuRICM7g5",
    "outputId": "6254b00c-8305-408c-8584-e389f684e4d7"
   },
   "outputs": [],
   "source": [
    "pred.play()"
   ]
  },
  {
   "cell_type": "code",
   "execution_count": null,
   "metadata": {},
   "outputs": [],
   "source": []
  },
  {
   "cell_type": "code",
   "execution_count": null,
   "metadata": {},
   "outputs": [],
   "source": []
  },
  {
   "cell_type": "code",
   "execution_count": null,
   "metadata": {},
   "outputs": [],
   "source": []
  }
 ],
 "metadata": {
  "accelerator": "GPU",
  "colab": {
   "collapsed_sections": [],
   "name": "Copy of Copy of Train.ipynb",
   "provenance": [],
   "toc_visible": true
  },
  "kernelspec": {
   "display_name": "Python 3",
   "language": "python",
   "name": "python3"
  },
  "language_info": {
   "codemirror_mode": {
    "name": "ipython",
    "version": 3
   },
   "file_extension": ".py",
   "mimetype": "text/x-python",
   "name": "python",
   "nbconvert_exporter": "python",
   "pygments_lexer": "ipython3",
   "version": "3.7.4"
  }
 },
 "nbformat": 4,
 "nbformat_minor": 1
}
