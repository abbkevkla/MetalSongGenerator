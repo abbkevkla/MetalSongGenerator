{
  "nbformat": 4,
  "nbformat_minor": 0,
  "metadata": {
    "colab": {
      "name": "Music_Lyrics_Combiner.ipynb",
      "provenance": [],
      "collapsed_sections": [],
      "toc_visible": true
    },
    "kernelspec": {
      "name": "python3",
      "display_name": "Python 3"
    }
  },
  "cells": [
    {
      "cell_type": "code",
      "metadata": {
        "id": "wFcZzb2EcN-u",
        "colab_type": "code",
        "colab": {}
      },
      "source": [
        "import os\n",
        "os.chdir('../../')"
      ],
      "execution_count": 0,
      "outputs": []
    },
    {
      "cell_type": "code",
      "metadata": {
        "id": "O51y7IkWcUMk",
        "colab_type": "code",
        "colab": {
          "base_uri": "https://localhost:8080/",
          "height": 156
        },
        "outputId": "8f9c3dc7-9ca6-45b8-b009-45ab026d745a"
      },
      "source": [
        "%cd /content\n",
        "!git clone https://github.com/abbkevkla/MetalSongGenerator"
      ],
      "execution_count": 2,
      "outputs": [
        {
          "output_type": "stream",
          "text": [
            "/content\n",
            "Cloning into 'MetalSongGenerator'...\n",
            "remote: Enumerating objects: 89, done.\u001b[K\n",
            "remote: Counting objects: 100% (89/89), done.\u001b[K\n",
            "remote: Compressing objects: 100% (75/75), done.\u001b[K\n",
            "remote: Total 273 (delta 26), reused 35 (delta 11), pack-reused 184\u001b[K\n",
            "Receiving objects: 100% (273/273), 6.42 MiB | 11.71 MiB/s, done.\n",
            "Resolving deltas: 100% (49/49), done.\n"
          ],
          "name": "stdout"
        }
      ]
    },
    {
      "cell_type": "code",
      "metadata": {
        "id": "midJZX7wcr76",
        "colab_type": "code",
        "colab": {
          "base_uri": "https://localhost:8080/",
          "height": 35
        },
        "outputId": "11dcf7ba-027e-4cec-8045-1cd6f920a96a"
      },
      "source": [
        "%cd /content/MetalSongGenerator/Results"
      ],
      "execution_count": 3,
      "outputs": [
        {
          "output_type": "stream",
          "text": [
            "/content/MetalSongGenerator/Results\n"
          ],
          "name": "stdout"
        }
      ]
    },
    {
      "cell_type": "code",
      "metadata": {
        "id": "7dD-PQVjczBP",
        "colab_type": "code",
        "colab": {
          "base_uri": "https://localhost:8080/",
          "height": 139
        },
        "outputId": "83174551-e75a-4a44-b9d6-82baa8d17dbb"
      },
      "source": [
        "! pip install pydub\n",
        "from pydub import AudioSegment\n",
        "%cd /content/MetalSongGenerator/Results/Music\n",
        "sound1 = AudioSegment.from_mp3(\"1.mp3\")\n",
        "print(\"Sound 1 complete\")\n",
        "%cd /content/MetalSongGenerator/Results/Lyrics\n",
        "podcast = AudioSegment.from_wav(\"Revo.wav\")\n",
        "podcast = podcast.normalize()\n",
        "podcast.export(\"r.mp3\")\n",
        "\n",
        "sound2 = AudioSegment.from_mp3(\"r.mp3\")\n",
        "print(\"Sound 2 complete\")\n",
        "%cd /content/MetalSongGenerator/Results\n",
        "output = sound1.overlay(sound2, position=0)\n",
        "output.export(\"mixed_sounds.mp3\", format=\"mp3\")\n",
        "print(\"Finished!\")"
      ],
      "execution_count": 5,
      "outputs": [
        {
          "output_type": "stream",
          "text": [
            "Requirement already satisfied: pydub in /usr/local/lib/python3.6/dist-packages (0.23.1)\n",
            "/content/MetalSongGenerator/Results/Music\n",
            "xd\n",
            "/content/MetalSongGenerator/Results/Lyrics\n",
            "lmao\n",
            "/content/MetalSongGenerator/Results\n",
            "yeet\n"
          ],
          "name": "stdout"
        }
      ]
    }
  ]
}