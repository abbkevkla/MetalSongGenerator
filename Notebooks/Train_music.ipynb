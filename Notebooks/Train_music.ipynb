{
  "nbformat": 4,
  "nbformat_minor": 0,
  "metadata": {
    "kernelspec": {
      "name": "python3",
      "display_name": "Python 3"
    },
    "language_info": {
      "codemirror_mode": {
        "name": "ipython",
        "version": 3
      },
      "file_extension": ".py",
      "mimetype": "text/x-python",
      "name": "python",
      "nbconvert_exporter": "python",
      "pygments_lexer": "ipython3",
      "version": "3.7.4"
    },
    "colab": {
      "name": "Train_Music.ipynb",
      "provenance": [],
      "collapsed_sections": [],
      "toc_visible": true
    },
    "accelerator": "GPU"
  },
  "cells": [
    {
      "cell_type": "code",
      "metadata": {
        "id": "WBAIouFTM7fc",
        "colab_type": "code",
        "colab": {}
      },
      "source": [
        "%reload_ext autoreload\n",
        "%autoreload 2\n",
        "%matplotlib inline"
      ],
      "execution_count": 0,
      "outputs": []
    },
    {
      "cell_type": "code",
      "metadata": {
        "id": "jUqppjQfLEJh",
        "colab_type": "code",
        "outputId": "fbfd338b-3dce-43a5-8066-c3a835473f32",
        "colab": {
          "base_uri": "https://localhost:8080/",
          "height": 124
        }
      },
      "source": [
        "from google.colab import drive\n",
        "drive.mount('/content/drive')"
      ],
      "execution_count": 0,
      "outputs": [
        {
          "output_type": "stream",
          "text": [
            "Go to this URL in a browser: https://accounts.google.com/o/oauth2/auth?client_id=947318989803-6bn6qk8qdgf4n4g3pfee6491hc0brc4i.apps.googleusercontent.com&redirect_uri=urn%3aietf%3awg%3aoauth%3a2.0%3aoob&response_type=code&scope=email%20https%3a%2f%2fwww.googleapis.com%2fauth%2fdocs.test%20https%3a%2f%2fwww.googleapis.com%2fauth%2fdrive%20https%3a%2f%2fwww.googleapis.com%2fauth%2fdrive.photos.readonly%20https%3a%2f%2fwww.googleapis.com%2fauth%2fpeopleapi.readonly\n",
            "\n",
            "Enter your authorization code:\n",
            "··········\n",
            "Mounted at /content/drive\n"
          ],
          "name": "stdout"
        }
      ]
    },
    {
      "cell_type": "code",
      "metadata": {
        "id": "w8M4EZNqM7fm",
        "colab_type": "code",
        "colab": {}
      },
      "source": [
        "import os\n",
        "os.chdir('../../')"
      ],
      "execution_count": 0,
      "outputs": []
    },
    {
      "cell_type": "code",
      "metadata": {
        "id": "odHNMGLnOxF1",
        "colab_type": "code",
        "outputId": "df37cd9f-138d-42c0-f21c-37a2b82314d2",
        "colab": {
          "base_uri": "https://localhost:8080/",
          "height": 173
        }
      },
      "source": [
        "%cd /content\n",
        "!git clone https://github.com/abbkevkla/MetalSongGenerator\n",
        "\n",
        "%cd /content/MetalSongGenerator/musicautobot-master"
      ],
      "execution_count": 3,
      "outputs": [
        {
          "output_type": "stream",
          "text": [
            "/content\n",
            "Cloning into 'MetalSongGenerator'...\n",
            "remote: Enumerating objects: 103, done.\u001b[K\n",
            "remote: Counting objects: 100% (103/103), done.\u001b[K\n",
            "remote: Compressing objects: 100% (84/84), done.\u001b[K\n",
            "remote: Total 287 (delta 33), reused 48 (delta 16), pack-reused 184\u001b[K\n",
            "Receiving objects: 100% (287/287), 6.42 MiB | 8.50 MiB/s, done.\n",
            "Resolving deltas: 100% (56/56), done.\n",
            "/content/MetalSongGenerator/musicautobot-master\n"
          ],
          "name": "stdout"
        }
      ]
    },
    {
      "cell_type": "code",
      "metadata": {
        "id": "QQ4lrWfgYX0l",
        "colab_type": "code",
        "colab": {}
      },
      "source": [
        "from music21 import *"
      ],
      "execution_count": 0,
      "outputs": []
    },
    {
      "cell_type": "code",
      "metadata": {
        "id": "2tGEHhdPM7fu",
        "colab_type": "code",
        "outputId": "32cfa616-f971-4a47-b521-fd6721f13bf0",
        "colab": {
          "base_uri": "https://localhost:8080/",
          "height": 55
        }
      },
      "source": [
        "from musicautobot.numpy_encode import *\n",
        "from musicautobot.config import *\n",
        "from musicautobot.music_transformer import *\n",
        "# Strunta i varningen om MuseScore, det behövs inte för att träna"
      ],
      "execution_count": 5,
      "outputs": [
        {
          "output_type": "stream",
          "text": [
            "Warning: Could not find musescore installation. Please install musescore (see README) and/or update music21 environment paths\n"
          ],
          "name": "stdout"
        }
      ]
    },
    {
      "cell_type": "markdown",
      "metadata": {
        "id": "kM-5JLGyM7fz",
        "colab_type": "text"
      },
      "source": [
        "## MusicTransformer Training\n",
        "\n",
        "MusicTransformer takes the basic idea of [Language Models](https://en.wikipedia.org/wiki/Language_model) and applies it to Music.  \n",
        "\n",
        "Given a sequence of notes, predict the next most likely set of notes.\n",
        "\n",
        "This model is based off of [transformer-XL](https://arxiv.org/abs/1901.02860) and uses fast.ai's [implementation](https://github.com/fastai/fastai/blob/master/fastai/text/models/transformer.py) of it."
      ]
    },
    {
      "cell_type": "code",
      "metadata": {
        "id": "JwAW7tq4M7f0",
        "colab_type": "code",
        "colab": {}
      },
      "source": [
        "# Location of your midi filesfiles\n",
        "midi_path = Path('data/midi/Solos') # At least 10 midi files needed\n",
        "midi_path.mkdir(parents=True, exist_ok=True)\n",
        "\n",
        "# Location to save dataset\n",
        "data_path = Path('data/numpy')\n",
        "data_path.mkdir(parents=True, exist_ok=True)\n",
        "\n",
        "data_save_name = 'musicitem_data_save.pkl'"
      ],
      "execution_count": 0,
      "outputs": []
    },
    {
      "cell_type": "markdown",
      "metadata": {
        "id": "fFdHDDX_M7f4",
        "colab_type": "text"
      },
      "source": [
        "## 1. Gather midi dataset"
      ]
    },
    {
      "cell_type": "markdown",
      "metadata": {
        "id": "MbINBK4pM7f6",
        "colab_type": "text"
      },
      "source": [
        "Make sure all your midi data is in `musicautobot/data/midi` directory"
      ]
    },
    {
      "cell_type": "markdown",
      "metadata": {
        "id": "yJGDAgcUM7f8",
        "colab_type": "text"
      },
      "source": [
        "Here's a pretty good dataset with lots of midi data:  \n",
        "https://www.reddit.com/r/datasets/comments/3akhxy/the_largest_midi_collection_on_the_internet/\n",
        "\n",
        "Download the folder and unzip it to `data/midi`"
      ]
    },
    {
      "cell_type": "markdown",
      "metadata": {
        "id": "9GFgLYV9M7f-",
        "colab_type": "text"
      },
      "source": [
        "## 2. Create dataset from MIDI files"
      ]
    },
    {
      "cell_type": "code",
      "metadata": {
        "id": "DlN8qikQM7gA",
        "colab_type": "code",
        "outputId": "0c6dad15-9687-490f-a56b-676243f777e9",
        "colab": {
          "base_uri": "https://localhost:8080/",
          "height": 35
        }
      },
      "source": [
        "midi_files = get_files(midi_path, '.mid', recurse=True); len(midi_files)"
      ],
      "execution_count": 7,
      "outputs": [
        {
          "output_type": "execute_result",
          "data": {
            "text/plain": [
              "10"
            ]
          },
          "metadata": {
            "tags": []
          },
          "execution_count": 7
        }
      ]
    },
    {
      "cell_type": "code",
      "metadata": {
        "id": "T8zrJCt1M7gG",
        "colab_type": "code",
        "colab": {}
      },
      "source": [
        "processors = [Midi2ItemProcessor()]\n",
        "data = MusicDataBunch.from_files(midi_files, data_path, processors=processors, bs=2, bptt=12)\n",
        "data.save(data_save_name)"
      ],
      "execution_count": 0,
      "outputs": []
    },
    {
      "cell_type": "code",
      "metadata": {
        "id": "FYDHyIfvM7gL",
        "colab_type": "code",
        "outputId": "303bdb4e-22b1-4472-cf78-d569514b3356",
        "colab": {
          "base_uri": "https://localhost:8080/",
          "height": 867
        }
      },
      "source": [
        "# Show Data\n",
        "data.train_dl.on_epoch_begin()\n",
        "x, y = data.one_batch();\n",
        "x, y"
      ],
      "execution_count": 9,
      "outputs": [
        {
          "output_type": "execute_result",
          "data": {
            "text/plain": [
              "(tensor([[[  0,   0],\n",
              "          [  1,   0],\n",
              "          [ 66,   0],\n",
              "          [145,   0],\n",
              "          [ 59,   0],\n",
              "          [138,   0],\n",
              "          [ 59,   0],\n",
              "          [145,   0],\n",
              "          [  8,   0],\n",
              "          [138,   0],\n",
              "          [ 62,   1],\n",
              "          [138,   1]],\n",
              " \n",
              "         [[138,  52],\n",
              "          [ 78,  53],\n",
              "          [138,  53],\n",
              "          [  8,  53],\n",
              "          [138,  53],\n",
              "          [ 77,  54],\n",
              "          [138,  54],\n",
              "          [  8,  54],\n",
              "          [138,  54],\n",
              "          [ 76,  55],\n",
              "          [138,  55],\n",
              "          [  8,  55]]]), tensor([[[  1,   0],\n",
              "          [ 66,   0],\n",
              "          [145,   0],\n",
              "          [ 59,   0],\n",
              "          [138,   0],\n",
              "          [ 59,   0],\n",
              "          [145,   0],\n",
              "          [  8,   0],\n",
              "          [138,   0],\n",
              "          [ 62,   1],\n",
              "          [138,   1],\n",
              "          [  8,   1]],\n",
              " \n",
              "         [[ 78,  53],\n",
              "          [138,  53],\n",
              "          [  8,  53],\n",
              "          [138,  53],\n",
              "          [ 77,  54],\n",
              "          [138,  54],\n",
              "          [  8,  54],\n",
              "          [138,  54],\n",
              "          [ 76,  55],\n",
              "          [138,  55],\n",
              "          [  8,  55],\n",
              "          [138,  55]]]))"
            ]
          },
          "metadata": {
            "tags": []
          },
          "execution_count": 9
        }
      ]
    },
    {
      "cell_type": "markdown",
      "metadata": {
        "id": "WBx_pZW0M7gP",
        "colab_type": "text"
      },
      "source": [
        "## 3. Load Model"
      ]
    },
    {
      "cell_type": "code",
      "metadata": {
        "id": "X9dgKdouM7gR",
        "colab_type": "code",
        "colab": {}
      },
      "source": [
        "batch_size = 1\n",
        "encode_position = True\n",
        "dl_tfms = [batch_position_tfm] if encode_position else []\n",
        "data = load_data(data_path, data_save_name, bs=batch_size, encode_position=encode_position, dl_tfms=dl_tfms)"
      ],
      "execution_count": 0,
      "outputs": []
    },
    {
      "cell_type": "code",
      "metadata": {
        "id": "OGk3LFe-M7gV",
        "colab_type": "code",
        "colab": {}
      },
      "source": [
        "config = default_config()\n",
        "config['encode_position'] = encode_position\n",
        "learn = music_model_learner(data, config=config.copy())"
      ],
      "execution_count": 0,
      "outputs": []
    },
    {
      "cell_type": "markdown",
      "metadata": {
        "id": "ZjHa74wyM7ga",
        "colab_type": "text"
      },
      "source": [
        "## 4. Train"
      ]
    },
    {
      "cell_type": "code",
      "metadata": {
        "id": "ccESOoPKM7gb",
        "colab_type": "code",
        "outputId": "a8f00f6f-64b8-4c6b-b403-ee96560231c7",
        "colab": {
          "base_uri": "https://localhost:8080/",
          "height": 141
        }
      },
      "source": [
        "learn.fit_one_cycle(3)"
      ],
      "execution_count": 12,
      "outputs": [
        {
          "output_type": "display_data",
          "data": {
            "text/html": [
              "<table border=\"1\" class=\"dataframe\">\n",
              "  <thead>\n",
              "    <tr style=\"text-align: left;\">\n",
              "      <th>epoch</th>\n",
              "      <th>train_loss</th>\n",
              "      <th>valid_loss</th>\n",
              "      <th>accuracy</th>\n",
              "      <th>time</th>\n",
              "    </tr>\n",
              "  </thead>\n",
              "  <tbody>\n",
              "    <tr>\n",
              "      <td>0</td>\n",
              "      <td>2.658623</td>\n",
              "      <td>4.030755</td>\n",
              "      <td>0.302597</td>\n",
              "      <td>00:25</td>\n",
              "    </tr>\n",
              "    <tr>\n",
              "      <td>1</td>\n",
              "      <td>2.738264</td>\n",
              "      <td>3.470382</td>\n",
              "      <td>0.302597</td>\n",
              "      <td>00:25</td>\n",
              "    </tr>\n",
              "    <tr>\n",
              "      <td>2</td>\n",
              "      <td>2.917616</td>\n",
              "      <td>3.351574</td>\n",
              "      <td>0.302597</td>\n",
              "      <td>00:25</td>\n",
              "    </tr>\n",
              "  </tbody>\n",
              "</table>"
            ],
            "text/plain": [
              "<IPython.core.display.HTML object>"
            ]
          },
          "metadata": {
            "tags": []
          }
        }
      ]
    },
    {
      "cell_type": "code",
      "metadata": {
        "id": "3IJfo-WOM7ge",
        "colab_type": "code",
        "outputId": "f685602a-3602-4f92-ebcc-bf33d948fe43",
        "colab": {
          "base_uri": "https://localhost:8080/",
          "height": 35
        }
      },
      "source": [
        "learn.save('solos_model')"
      ],
      "execution_count": 0,
      "outputs": [
        {
          "output_type": "execute_result",
          "data": {
            "text/plain": [
              "PosixPath('data/numpy/models/solos_model.pth')"
            ]
          },
          "metadata": {
            "tags": []
          },
          "execution_count": 15
        }
      ]
    }
  ]
}